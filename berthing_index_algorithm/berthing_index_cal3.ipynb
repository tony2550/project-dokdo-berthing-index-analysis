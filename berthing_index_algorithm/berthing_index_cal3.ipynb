{
 "cells": [
  {
   "cell_type": "markdown",
   "id": "db955716-89a4-4ed9-b5ed-7b49e0083c8b",
   "metadata": {},
   "source": [
    "# 데이터 지수화 - 최초 접안지수\n",
    "### 풍속 , 풍향 , 유의파고"
   ]
  },
  {
   "cell_type": "code",
   "execution_count": 2,
   "id": "5529c4f4-e20f-45f0-993f-c07f0d916d7b",
   "metadata": {},
   "outputs": [],
   "source": [
    "import numpy as np\n",
    "import pandas as pd"
   ]
  },
  {
   "cell_type": "code",
   "execution_count": 3,
   "id": "8a759e46-8d83-404e-b131-22087c603e23",
   "metadata": {},
   "outputs": [],
   "source": [
    "data = pd.read_csv('data/trans2018.csv', encoding='cp949')\n",
    "\n",
    "df = pd.DataFrame(data)"
   ]
  },
  {
   "cell_type": "code",
   "execution_count": 133,
   "id": "bd5066cf-0f20-4f90-8cf2-99b135438c00",
   "metadata": {},
   "outputs": [
    {
     "data": {
      "text/html": [
       "<div>\n",
       "<style scoped>\n",
       "    .dataframe tbody tr th:only-of-type {\n",
       "        vertical-align: middle;\n",
       "    }\n",
       "\n",
       "    .dataframe tbody tr th {\n",
       "        vertical-align: top;\n",
       "    }\n",
       "\n",
       "    .dataframe thead th {\n",
       "        text-align: right;\n",
       "    }\n",
       "</style>\n",
       "<table border=\"1\" class=\"dataframe\">\n",
       "  <thead>\n",
       "    <tr style=\"text-align: right;\">\n",
       "      <th></th>\n",
       "      <th>일시</th>\n",
       "      <th>풍속(m/s)</th>\n",
       "      <th>풍향(deg)</th>\n",
       "      <th>유의파고(m)</th>\n",
       "      <th>파향(deg)</th>\n",
       "      <th>강수량(mm)</th>\n",
       "    </tr>\n",
       "  </thead>\n",
       "  <tbody>\n",
       "    <tr>\n",
       "      <th>0</th>\n",
       "      <td>2018-01-01 0:00</td>\n",
       "      <td>10.3</td>\n",
       "      <td>330</td>\n",
       "      <td>3.2</td>\n",
       "      <td>285</td>\n",
       "      <td>0.0</td>\n",
       "    </tr>\n",
       "    <tr>\n",
       "      <th>1</th>\n",
       "      <td>2018-01-01 1:00</td>\n",
       "      <td>10.0</td>\n",
       "      <td>304</td>\n",
       "      <td>3.3</td>\n",
       "      <td>313</td>\n",
       "      <td>0.0</td>\n",
       "    </tr>\n",
       "    <tr>\n",
       "      <th>2</th>\n",
       "      <td>2018-01-01 2:00</td>\n",
       "      <td>9.8</td>\n",
       "      <td>304</td>\n",
       "      <td>3.5</td>\n",
       "      <td>270</td>\n",
       "      <td>0.0</td>\n",
       "    </tr>\n",
       "    <tr>\n",
       "      <th>3</th>\n",
       "      <td>2018-01-01 3:00</td>\n",
       "      <td>10.4</td>\n",
       "      <td>317</td>\n",
       "      <td>3.4</td>\n",
       "      <td>272</td>\n",
       "      <td>0.0</td>\n",
       "    </tr>\n",
       "    <tr>\n",
       "      <th>4</th>\n",
       "      <td>2018-01-01 4:00</td>\n",
       "      <td>11.3</td>\n",
       "      <td>320</td>\n",
       "      <td>3.5</td>\n",
       "      <td>274</td>\n",
       "      <td>0.0</td>\n",
       "    </tr>\n",
       "  </tbody>\n",
       "</table>\n",
       "</div>"
      ],
      "text/plain": [
       "                일시  풍속(m/s)  풍향(deg)  유의파고(m)  파향(deg)  강수량(mm)\n",
       "0  2018-01-01 0:00     10.3      330      3.2      285      0.0\n",
       "1  2018-01-01 1:00     10.0      304      3.3      313      0.0\n",
       "2  2018-01-01 2:00      9.8      304      3.5      270      0.0\n",
       "3  2018-01-01 3:00     10.4      317      3.4      272      0.0\n",
       "4  2018-01-01 4:00     11.3      320      3.5      274      0.0"
      ]
     },
     "execution_count": 133,
     "metadata": {},
     "output_type": "execute_result"
    }
   ],
   "source": [
    "df.head()"
   ]
  },
  {
   "cell_type": "code",
   "execution_count": 4,
   "id": "312b5fad-bdeb-485b-b1d5-ec94fa587a69",
   "metadata": {
    "tags": []
   },
   "outputs": [
    {
     "data": {
      "text/plain": [
       "일시         0\n",
       "풍속(m/s)    0\n",
       "풍향(deg)    0\n",
       "유의파고(m)    0\n",
       "파향(deg)    0\n",
       "강수량(mm)    0\n",
       "dtype: int64"
      ]
     },
     "execution_count": 4,
     "metadata": {},
     "output_type": "execute_result"
    }
   ],
   "source": [
    "df.isnull().sum()"
   ]
  },
  {
   "cell_type": "code",
   "execution_count": 98,
   "id": "4852c5af-1e60-472a-b811-205122d86510",
   "metadata": {},
   "outputs": [],
   "source": [
    "# data2019_1 = df.fillna(method='bfill')\n",
    "# data2019_1.head()"
   ]
  },
  {
   "cell_type": "code",
   "execution_count": 99,
   "id": "2d91073b-285c-43f0-aaa0-82cf6aca5629",
   "metadata": {
    "tags": []
   },
   "outputs": [],
   "source": [
    "# data2019_1.isnull().sum()"
   ]
  },
  {
   "cell_type": "code",
   "execution_count": 5,
   "id": "89a120d5-2515-4b59-aa97-09b95787cda0",
   "metadata": {},
   "outputs": [],
   "source": [
    "data2018_1 = df[['일시','풍속(m/s)','풍향(deg)','유의파고(m)']]"
   ]
  },
  {
   "cell_type": "code",
   "execution_count": 6,
   "id": "d46e87a4-e4a7-4d09-b788-eb15d2ddb141",
   "metadata": {},
   "outputs": [
    {
     "data": {
      "text/plain": [
       "일시         0\n",
       "풍속(m/s)    0\n",
       "풍향(deg)    0\n",
       "유의파고(m)    0\n",
       "dtype: int64"
      ]
     },
     "execution_count": 6,
     "metadata": {},
     "output_type": "execute_result"
    }
   ],
   "source": [
    "data2018_1.isnull().sum()"
   ]
  },
  {
   "cell_type": "code",
   "execution_count": 7,
   "id": "c5ad64aa-281f-4f20-b94d-7d1d3c1d39c6",
   "metadata": {},
   "outputs": [
    {
     "data": {
      "text/html": [
       "<div>\n",
       "<style scoped>\n",
       "    .dataframe tbody tr th:only-of-type {\n",
       "        vertical-align: middle;\n",
       "    }\n",
       "\n",
       "    .dataframe tbody tr th {\n",
       "        vertical-align: top;\n",
       "    }\n",
       "\n",
       "    .dataframe thead th {\n",
       "        text-align: right;\n",
       "    }\n",
       "</style>\n",
       "<table border=\"1\" class=\"dataframe\">\n",
       "  <thead>\n",
       "    <tr style=\"text-align: right;\">\n",
       "      <th></th>\n",
       "      <th>일시</th>\n",
       "      <th>풍속(m/s)</th>\n",
       "      <th>풍향(deg)</th>\n",
       "      <th>유의파고(m)</th>\n",
       "    </tr>\n",
       "  </thead>\n",
       "  <tbody>\n",
       "    <tr>\n",
       "      <th>0</th>\n",
       "      <td>2018-01-01 0:00</td>\n",
       "      <td>10.3</td>\n",
       "      <td>330</td>\n",
       "      <td>3.2</td>\n",
       "    </tr>\n",
       "    <tr>\n",
       "      <th>1</th>\n",
       "      <td>2018-01-01 1:00</td>\n",
       "      <td>10.0</td>\n",
       "      <td>304</td>\n",
       "      <td>3.3</td>\n",
       "    </tr>\n",
       "    <tr>\n",
       "      <th>2</th>\n",
       "      <td>2018-01-01 2:00</td>\n",
       "      <td>9.8</td>\n",
       "      <td>304</td>\n",
       "      <td>3.5</td>\n",
       "    </tr>\n",
       "    <tr>\n",
       "      <th>3</th>\n",
       "      <td>2018-01-01 3:00</td>\n",
       "      <td>10.4</td>\n",
       "      <td>317</td>\n",
       "      <td>3.4</td>\n",
       "    </tr>\n",
       "    <tr>\n",
       "      <th>4</th>\n",
       "      <td>2018-01-01 4:00</td>\n",
       "      <td>11.3</td>\n",
       "      <td>320</td>\n",
       "      <td>3.5</td>\n",
       "    </tr>\n",
       "  </tbody>\n",
       "</table>\n",
       "</div>"
      ],
      "text/plain": [
       "                일시  풍속(m/s)  풍향(deg)  유의파고(m)\n",
       "0  2018-01-01 0:00     10.3      330      3.2\n",
       "1  2018-01-01 1:00     10.0      304      3.3\n",
       "2  2018-01-01 2:00      9.8      304      3.5\n",
       "3  2018-01-01 3:00     10.4      317      3.4\n",
       "4  2018-01-01 4:00     11.3      320      3.5"
      ]
     },
     "execution_count": 7,
     "metadata": {},
     "output_type": "execute_result"
    }
   ],
   "source": [
    "data2018_1.head()"
   ]
  },
  {
   "cell_type": "code",
   "execution_count": 8,
   "id": "2b0ff868-e361-471b-b93b-115df5683653",
   "metadata": {},
   "outputs": [],
   "source": [
    "#풍향\n",
    "def func_winddeg_index(x) :\n",
    "    if 160<x<=270:\n",
    "        return 1\n",
    "    elif 135<x<=160 or 270<x<=290:\n",
    "        return 2\n",
    "    elif 105<x<=135 or 290<x<=315:\n",
    "        return 3\n",
    "    elif 0<=x<=105 or 315<x<=360:\n",
    "        return 4\n",
    "    \n",
    "\n",
    "#풍속 함수정의 -> 풍향에서 살짝 바꿈\n",
    "def func_windspeed_index(x):\n",
    "    if x<=4:\n",
    "        return 4\n",
    "    elif 4<x<=9:\n",
    "        return 3\n",
    "    elif 9<x<=14:\n",
    "        return 2\n",
    "    elif 14<x:\n",
    "        return 1\n",
    "\n",
    "#파고\n",
    "def func_wave_index(x):\n",
    "    if x<=0.5:\n",
    "        return 4\n",
    "    elif 0.5<x<=1.0:\n",
    "        return 3\n",
    "    elif 1.0<x<=2.0:\n",
    "        return 2\n",
    "    elif 2.0<x:\n",
    "        return 1"
   ]
  },
  {
   "cell_type": "code",
   "execution_count": 48,
   "id": "d2c611fd-9bb9-4e3f-b5c4-a618f36c1fde",
   "metadata": {},
   "outputs": [
    {
     "name": "stdout",
     "output_type": "stream",
     "text": [
      "5\n"
     ]
    }
   ],
   "source": [
    "print(func_rain_index(0))"
   ]
  },
  {
   "cell_type": "code",
   "execution_count": 9,
   "id": "b7df0285-a38e-463d-914e-382b4c59050b",
   "metadata": {},
   "outputs": [
    {
     "name": "stderr",
     "output_type": "stream",
     "text": [
      "<ipython-input-9-8161215d4f9e>:2: SettingWithCopyWarning: \n",
      "A value is trying to be set on a copy of a slice from a DataFrame.\n",
      "Try using .loc[row_indexer,col_indexer] = value instead\n",
      "\n",
      "See the caveats in the documentation: https://pandas.pydata.org/pandas-docs/stable/user_guide/indexing.html#returning-a-view-versus-a-copy\n",
      "  data2018_1['wind_speed_index'] = data2018_1['풍속(m/s)'].apply(lambda x : func_windspeed_index(x))\n"
     ]
    }
   ],
   "source": [
    "# df = df[['일시','풍속(m/s)','풍향(deg)','유의파고(m)']]\n",
    "data2018_1['wind_speed_index'] = data2018_1['풍속(m/s)'].apply(lambda x : func_windspeed_index(x))"
   ]
  },
  {
   "cell_type": "code",
   "execution_count": 10,
   "id": "8acf13c8-0612-48dc-80b0-4e682bfb2f2b",
   "metadata": {},
   "outputs": [
    {
     "data": {
      "text/html": [
       "<div>\n",
       "<style scoped>\n",
       "    .dataframe tbody tr th:only-of-type {\n",
       "        vertical-align: middle;\n",
       "    }\n",
       "\n",
       "    .dataframe tbody tr th {\n",
       "        vertical-align: top;\n",
       "    }\n",
       "\n",
       "    .dataframe thead th {\n",
       "        text-align: right;\n",
       "    }\n",
       "</style>\n",
       "<table border=\"1\" class=\"dataframe\">\n",
       "  <thead>\n",
       "    <tr style=\"text-align: right;\">\n",
       "      <th></th>\n",
       "      <th>일시</th>\n",
       "      <th>풍속(m/s)</th>\n",
       "      <th>풍향(deg)</th>\n",
       "      <th>유의파고(m)</th>\n",
       "      <th>wind_speed_index</th>\n",
       "    </tr>\n",
       "  </thead>\n",
       "  <tbody>\n",
       "    <tr>\n",
       "      <th>0</th>\n",
       "      <td>2018-01-01 0:00</td>\n",
       "      <td>10.3</td>\n",
       "      <td>330</td>\n",
       "      <td>3.2</td>\n",
       "      <td>2</td>\n",
       "    </tr>\n",
       "    <tr>\n",
       "      <th>1</th>\n",
       "      <td>2018-01-01 1:00</td>\n",
       "      <td>10.0</td>\n",
       "      <td>304</td>\n",
       "      <td>3.3</td>\n",
       "      <td>2</td>\n",
       "    </tr>\n",
       "    <tr>\n",
       "      <th>2</th>\n",
       "      <td>2018-01-01 2:00</td>\n",
       "      <td>9.8</td>\n",
       "      <td>304</td>\n",
       "      <td>3.5</td>\n",
       "      <td>2</td>\n",
       "    </tr>\n",
       "    <tr>\n",
       "      <th>3</th>\n",
       "      <td>2018-01-01 3:00</td>\n",
       "      <td>10.4</td>\n",
       "      <td>317</td>\n",
       "      <td>3.4</td>\n",
       "      <td>2</td>\n",
       "    </tr>\n",
       "    <tr>\n",
       "      <th>4</th>\n",
       "      <td>2018-01-01 4:00</td>\n",
       "      <td>11.3</td>\n",
       "      <td>320</td>\n",
       "      <td>3.5</td>\n",
       "      <td>2</td>\n",
       "    </tr>\n",
       "  </tbody>\n",
       "</table>\n",
       "</div>"
      ],
      "text/plain": [
       "                일시  풍속(m/s)  풍향(deg)  유의파고(m)  wind_speed_index\n",
       "0  2018-01-01 0:00     10.3      330      3.2                 2\n",
       "1  2018-01-01 1:00     10.0      304      3.3                 2\n",
       "2  2018-01-01 2:00      9.8      304      3.5                 2\n",
       "3  2018-01-01 3:00     10.4      317      3.4                 2\n",
       "4  2018-01-01 4:00     11.3      320      3.5                 2"
      ]
     },
     "execution_count": 10,
     "metadata": {},
     "output_type": "execute_result"
    }
   ],
   "source": [
    "data2018_1.head()"
   ]
  },
  {
   "cell_type": "code",
   "execution_count": 11,
   "id": "b8f7ede9-c8c9-4273-baf8-095e271ec480",
   "metadata": {},
   "outputs": [],
   "source": [
    "data2018_1['wind_deg_index'] = data2018_1['풍향(deg)'].apply(lambda x : func_winddeg_index(x))"
   ]
  },
  {
   "cell_type": "code",
   "execution_count": 12,
   "id": "43ceb8d6-328e-42a6-a39a-13f339159967",
   "metadata": {},
   "outputs": [
    {
     "data": {
      "text/html": [
       "<div>\n",
       "<style scoped>\n",
       "    .dataframe tbody tr th:only-of-type {\n",
       "        vertical-align: middle;\n",
       "    }\n",
       "\n",
       "    .dataframe tbody tr th {\n",
       "        vertical-align: top;\n",
       "    }\n",
       "\n",
       "    .dataframe thead th {\n",
       "        text-align: right;\n",
       "    }\n",
       "</style>\n",
       "<table border=\"1\" class=\"dataframe\">\n",
       "  <thead>\n",
       "    <tr style=\"text-align: right;\">\n",
       "      <th></th>\n",
       "      <th>일시</th>\n",
       "      <th>풍속(m/s)</th>\n",
       "      <th>풍향(deg)</th>\n",
       "      <th>유의파고(m)</th>\n",
       "      <th>wind_speed_index</th>\n",
       "      <th>wind_deg_index</th>\n",
       "    </tr>\n",
       "  </thead>\n",
       "  <tbody>\n",
       "    <tr>\n",
       "      <th>0</th>\n",
       "      <td>2018-01-01 0:00</td>\n",
       "      <td>10.3</td>\n",
       "      <td>330</td>\n",
       "      <td>3.2</td>\n",
       "      <td>2</td>\n",
       "      <td>4</td>\n",
       "    </tr>\n",
       "    <tr>\n",
       "      <th>1</th>\n",
       "      <td>2018-01-01 1:00</td>\n",
       "      <td>10.0</td>\n",
       "      <td>304</td>\n",
       "      <td>3.3</td>\n",
       "      <td>2</td>\n",
       "      <td>3</td>\n",
       "    </tr>\n",
       "    <tr>\n",
       "      <th>2</th>\n",
       "      <td>2018-01-01 2:00</td>\n",
       "      <td>9.8</td>\n",
       "      <td>304</td>\n",
       "      <td>3.5</td>\n",
       "      <td>2</td>\n",
       "      <td>3</td>\n",
       "    </tr>\n",
       "    <tr>\n",
       "      <th>3</th>\n",
       "      <td>2018-01-01 3:00</td>\n",
       "      <td>10.4</td>\n",
       "      <td>317</td>\n",
       "      <td>3.4</td>\n",
       "      <td>2</td>\n",
       "      <td>4</td>\n",
       "    </tr>\n",
       "    <tr>\n",
       "      <th>4</th>\n",
       "      <td>2018-01-01 4:00</td>\n",
       "      <td>11.3</td>\n",
       "      <td>320</td>\n",
       "      <td>3.5</td>\n",
       "      <td>2</td>\n",
       "      <td>4</td>\n",
       "    </tr>\n",
       "  </tbody>\n",
       "</table>\n",
       "</div>"
      ],
      "text/plain": [
       "                일시  풍속(m/s)  풍향(deg)  유의파고(m)  wind_speed_index  \\\n",
       "0  2018-01-01 0:00     10.3      330      3.2                 2   \n",
       "1  2018-01-01 1:00     10.0      304      3.3                 2   \n",
       "2  2018-01-01 2:00      9.8      304      3.5                 2   \n",
       "3  2018-01-01 3:00     10.4      317      3.4                 2   \n",
       "4  2018-01-01 4:00     11.3      320      3.5                 2   \n",
       "\n",
       "   wind_deg_index  \n",
       "0               4  \n",
       "1               3  \n",
       "2               3  \n",
       "3               4  \n",
       "4               4  "
      ]
     },
     "execution_count": 12,
     "metadata": {},
     "output_type": "execute_result"
    }
   ],
   "source": [
    "data2018_1.head()"
   ]
  },
  {
   "cell_type": "code",
   "execution_count": 13,
   "id": "304fac76-cc04-46a5-9f5a-2e68ef8b776d",
   "metadata": {},
   "outputs": [],
   "source": [
    "data2018_1['wave_index'] = data2018_1['유의파고(m)'].apply(lambda x : func_wave_index(x))"
   ]
  },
  {
   "cell_type": "code",
   "execution_count": 14,
   "id": "2cb17f17-18fe-4954-b71b-a6d804feb165",
   "metadata": {},
   "outputs": [
    {
     "data": {
      "text/html": [
       "<div>\n",
       "<style scoped>\n",
       "    .dataframe tbody tr th:only-of-type {\n",
       "        vertical-align: middle;\n",
       "    }\n",
       "\n",
       "    .dataframe tbody tr th {\n",
       "        vertical-align: top;\n",
       "    }\n",
       "\n",
       "    .dataframe thead th {\n",
       "        text-align: right;\n",
       "    }\n",
       "</style>\n",
       "<table border=\"1\" class=\"dataframe\">\n",
       "  <thead>\n",
       "    <tr style=\"text-align: right;\">\n",
       "      <th></th>\n",
       "      <th>일시</th>\n",
       "      <th>풍속(m/s)</th>\n",
       "      <th>풍향(deg)</th>\n",
       "      <th>유의파고(m)</th>\n",
       "      <th>wind_speed_index</th>\n",
       "      <th>wind_deg_index</th>\n",
       "      <th>wave_index</th>\n",
       "    </tr>\n",
       "  </thead>\n",
       "  <tbody>\n",
       "    <tr>\n",
       "      <th>0</th>\n",
       "      <td>2018-01-01 0:00</td>\n",
       "      <td>10.3</td>\n",
       "      <td>330</td>\n",
       "      <td>3.2</td>\n",
       "      <td>2</td>\n",
       "      <td>4</td>\n",
       "      <td>1</td>\n",
       "    </tr>\n",
       "    <tr>\n",
       "      <th>1</th>\n",
       "      <td>2018-01-01 1:00</td>\n",
       "      <td>10.0</td>\n",
       "      <td>304</td>\n",
       "      <td>3.3</td>\n",
       "      <td>2</td>\n",
       "      <td>3</td>\n",
       "      <td>1</td>\n",
       "    </tr>\n",
       "    <tr>\n",
       "      <th>2</th>\n",
       "      <td>2018-01-01 2:00</td>\n",
       "      <td>9.8</td>\n",
       "      <td>304</td>\n",
       "      <td>3.5</td>\n",
       "      <td>2</td>\n",
       "      <td>3</td>\n",
       "      <td>1</td>\n",
       "    </tr>\n",
       "    <tr>\n",
       "      <th>3</th>\n",
       "      <td>2018-01-01 3:00</td>\n",
       "      <td>10.4</td>\n",
       "      <td>317</td>\n",
       "      <td>3.4</td>\n",
       "      <td>2</td>\n",
       "      <td>4</td>\n",
       "      <td>1</td>\n",
       "    </tr>\n",
       "    <tr>\n",
       "      <th>4</th>\n",
       "      <td>2018-01-01 4:00</td>\n",
       "      <td>11.3</td>\n",
       "      <td>320</td>\n",
       "      <td>3.5</td>\n",
       "      <td>2</td>\n",
       "      <td>4</td>\n",
       "      <td>1</td>\n",
       "    </tr>\n",
       "  </tbody>\n",
       "</table>\n",
       "</div>"
      ],
      "text/plain": [
       "                일시  풍속(m/s)  풍향(deg)  유의파고(m)  wind_speed_index  \\\n",
       "0  2018-01-01 0:00     10.3      330      3.2                 2   \n",
       "1  2018-01-01 1:00     10.0      304      3.3                 2   \n",
       "2  2018-01-01 2:00      9.8      304      3.5                 2   \n",
       "3  2018-01-01 3:00     10.4      317      3.4                 2   \n",
       "4  2018-01-01 4:00     11.3      320      3.5                 2   \n",
       "\n",
       "   wind_deg_index  wave_index  \n",
       "0               4           1  \n",
       "1               3           1  \n",
       "2               3           1  \n",
       "3               4           1  \n",
       "4               4           1  "
      ]
     },
     "execution_count": 14,
     "metadata": {},
     "output_type": "execute_result"
    }
   ],
   "source": [
    "data2018_1.head()"
   ]
  },
  {
   "cell_type": "code",
   "execution_count": 15,
   "id": "8a867e4a-1801-4707-a152-e1a61c4d0778",
   "metadata": {},
   "outputs": [
    {
     "data": {
      "text/html": [
       "<div>\n",
       "<style scoped>\n",
       "    .dataframe tbody tr th:only-of-type {\n",
       "        vertical-align: middle;\n",
       "    }\n",
       "\n",
       "    .dataframe tbody tr th {\n",
       "        vertical-align: top;\n",
       "    }\n",
       "\n",
       "    .dataframe thead th {\n",
       "        text-align: right;\n",
       "    }\n",
       "</style>\n",
       "<table border=\"1\" class=\"dataframe\">\n",
       "  <thead>\n",
       "    <tr style=\"text-align: right;\">\n",
       "      <th></th>\n",
       "      <th>풍속(m/s)</th>\n",
       "      <th>풍향(deg)</th>\n",
       "      <th>유의파고(m)</th>\n",
       "      <th>wind_speed_index</th>\n",
       "      <th>wind_deg_index</th>\n",
       "      <th>wave_index</th>\n",
       "    </tr>\n",
       "  </thead>\n",
       "  <tbody>\n",
       "    <tr>\n",
       "      <th>count</th>\n",
       "      <td>8667.000000</td>\n",
       "      <td>8667.000000</td>\n",
       "      <td>8667.000000</td>\n",
       "      <td>8667.000000</td>\n",
       "      <td>8667.000000</td>\n",
       "      <td>8667.000000</td>\n",
       "    </tr>\n",
       "    <tr>\n",
       "      <th>mean</th>\n",
       "      <td>6.017076</td>\n",
       "      <td>187.605861</td>\n",
       "      <td>1.379774</td>\n",
       "      <td>3.105573</td>\n",
       "      <td>2.618207</td>\n",
       "      <td>2.394485</td>\n",
       "    </tr>\n",
       "    <tr>\n",
       "      <th>std</th>\n",
       "      <td>3.151017</td>\n",
       "      <td>103.287013</td>\n",
       "      <td>0.910319</td>\n",
       "      <td>0.700993</td>\n",
       "      <td>1.345456</td>\n",
       "      <td>0.950558</td>\n",
       "    </tr>\n",
       "    <tr>\n",
       "      <th>min</th>\n",
       "      <td>0.000000</td>\n",
       "      <td>0.000000</td>\n",
       "      <td>0.000000</td>\n",
       "      <td>1.000000</td>\n",
       "      <td>1.000000</td>\n",
       "      <td>1.000000</td>\n",
       "    </tr>\n",
       "    <tr>\n",
       "      <th>25%</th>\n",
       "      <td>3.650000</td>\n",
       "      <td>90.000000</td>\n",
       "      <td>0.700000</td>\n",
       "      <td>3.000000</td>\n",
       "      <td>1.000000</td>\n",
       "      <td>2.000000</td>\n",
       "    </tr>\n",
       "    <tr>\n",
       "      <th>50%</th>\n",
       "      <td>5.500000</td>\n",
       "      <td>204.000000</td>\n",
       "      <td>1.200000</td>\n",
       "      <td>3.000000</td>\n",
       "      <td>3.000000</td>\n",
       "      <td>2.000000</td>\n",
       "    </tr>\n",
       "    <tr>\n",
       "      <th>75%</th>\n",
       "      <td>8.000000</td>\n",
       "      <td>275.000000</td>\n",
       "      <td>1.800000</td>\n",
       "      <td>4.000000</td>\n",
       "      <td>4.000000</td>\n",
       "      <td>3.000000</td>\n",
       "    </tr>\n",
       "    <tr>\n",
       "      <th>max</th>\n",
       "      <td>21.900000</td>\n",
       "      <td>360.000000</td>\n",
       "      <td>7.200000</td>\n",
       "      <td>4.000000</td>\n",
       "      <td>4.000000</td>\n",
       "      <td>4.000000</td>\n",
       "    </tr>\n",
       "  </tbody>\n",
       "</table>\n",
       "</div>"
      ],
      "text/plain": [
       "           풍속(m/s)      풍향(deg)      유의파고(m)  wind_speed_index  \\\n",
       "count  8667.000000  8667.000000  8667.000000       8667.000000   \n",
       "mean      6.017076   187.605861     1.379774          3.105573   \n",
       "std       3.151017   103.287013     0.910319          0.700993   \n",
       "min       0.000000     0.000000     0.000000          1.000000   \n",
       "25%       3.650000    90.000000     0.700000          3.000000   \n",
       "50%       5.500000   204.000000     1.200000          3.000000   \n",
       "75%       8.000000   275.000000     1.800000          4.000000   \n",
       "max      21.900000   360.000000     7.200000          4.000000   \n",
       "\n",
       "       wind_deg_index   wave_index  \n",
       "count     8667.000000  8667.000000  \n",
       "mean         2.618207     2.394485  \n",
       "std          1.345456     0.950558  \n",
       "min          1.000000     1.000000  \n",
       "25%          1.000000     2.000000  \n",
       "50%          3.000000     2.000000  \n",
       "75%          4.000000     3.000000  \n",
       "max          4.000000     4.000000  "
      ]
     },
     "execution_count": 15,
     "metadata": {},
     "output_type": "execute_result"
    }
   ],
   "source": [
    "data2018_1.describe()"
   ]
  },
  {
   "cell_type": "markdown",
   "id": "33459e52-b4e8-446e-bf05-f0bc628b6e2f",
   "metadata": {},
   "source": [
    "### 가중치 설정 \n",
    "#### 풍속 : 4.5점 / 파고 : 4점 / 풍향 :3.5점 총합 12 -> 각 점수를 총합으로 나눔\n",
    "#### 풍속 : 0.38 / 파고 : 0.33 / 풍향 : 0.29점"
   ]
  },
  {
   "cell_type": "code",
   "execution_count": 16,
   "id": "9995cca7-51cf-4bb2-b52c-b95c903a656e",
   "metadata": {},
   "outputs": [],
   "source": [
    "data2018_1['berthing_index'] = (data2018_1['wind_speed_index']*0.38) + (data2018_1['wind_deg_index']*0.33) + (data2018_1['wave_index']*0.29)"
   ]
  },
  {
   "cell_type": "code",
   "execution_count": 18,
   "id": "e0678417-3c47-4aa2-8ffa-06b442c80ea8",
   "metadata": {},
   "outputs": [],
   "source": [
    "data2018_1['berthing_index2'] = data2018_1['berthing_index']/4"
   ]
  },
  {
   "cell_type": "code",
   "execution_count": 19,
   "id": "4e2e9cd5-33c8-43a6-adfa-8111ca1b7d9f",
   "metadata": {},
   "outputs": [
    {
     "data": {
      "text/html": [
       "<div>\n",
       "<style scoped>\n",
       "    .dataframe tbody tr th:only-of-type {\n",
       "        vertical-align: middle;\n",
       "    }\n",
       "\n",
       "    .dataframe tbody tr th {\n",
       "        vertical-align: top;\n",
       "    }\n",
       "\n",
       "    .dataframe thead th {\n",
       "        text-align: right;\n",
       "    }\n",
       "</style>\n",
       "<table border=\"1\" class=\"dataframe\">\n",
       "  <thead>\n",
       "    <tr style=\"text-align: right;\">\n",
       "      <th></th>\n",
       "      <th>일시</th>\n",
       "      <th>풍속(m/s)</th>\n",
       "      <th>풍향(deg)</th>\n",
       "      <th>유의파고(m)</th>\n",
       "      <th>wind_speed_index</th>\n",
       "      <th>wind_deg_index</th>\n",
       "      <th>wave_index</th>\n",
       "      <th>berthing_index</th>\n",
       "      <th>berthing_index2</th>\n",
       "    </tr>\n",
       "  </thead>\n",
       "  <tbody>\n",
       "    <tr>\n",
       "      <th>0</th>\n",
       "      <td>2018-01-01 0:00</td>\n",
       "      <td>10.3</td>\n",
       "      <td>330</td>\n",
       "      <td>3.2</td>\n",
       "      <td>2</td>\n",
       "      <td>4</td>\n",
       "      <td>1</td>\n",
       "      <td>2.37</td>\n",
       "      <td>0.5925</td>\n",
       "    </tr>\n",
       "    <tr>\n",
       "      <th>1</th>\n",
       "      <td>2018-01-01 1:00</td>\n",
       "      <td>10.0</td>\n",
       "      <td>304</td>\n",
       "      <td>3.3</td>\n",
       "      <td>2</td>\n",
       "      <td>3</td>\n",
       "      <td>1</td>\n",
       "      <td>2.04</td>\n",
       "      <td>0.5100</td>\n",
       "    </tr>\n",
       "    <tr>\n",
       "      <th>2</th>\n",
       "      <td>2018-01-01 2:00</td>\n",
       "      <td>9.8</td>\n",
       "      <td>304</td>\n",
       "      <td>3.5</td>\n",
       "      <td>2</td>\n",
       "      <td>3</td>\n",
       "      <td>1</td>\n",
       "      <td>2.04</td>\n",
       "      <td>0.5100</td>\n",
       "    </tr>\n",
       "    <tr>\n",
       "      <th>3</th>\n",
       "      <td>2018-01-01 3:00</td>\n",
       "      <td>10.4</td>\n",
       "      <td>317</td>\n",
       "      <td>3.4</td>\n",
       "      <td>2</td>\n",
       "      <td>4</td>\n",
       "      <td>1</td>\n",
       "      <td>2.37</td>\n",
       "      <td>0.5925</td>\n",
       "    </tr>\n",
       "    <tr>\n",
       "      <th>4</th>\n",
       "      <td>2018-01-01 4:00</td>\n",
       "      <td>11.3</td>\n",
       "      <td>320</td>\n",
       "      <td>3.5</td>\n",
       "      <td>2</td>\n",
       "      <td>4</td>\n",
       "      <td>1</td>\n",
       "      <td>2.37</td>\n",
       "      <td>0.5925</td>\n",
       "    </tr>\n",
       "  </tbody>\n",
       "</table>\n",
       "</div>"
      ],
      "text/plain": [
       "                일시  풍속(m/s)  풍향(deg)  유의파고(m)  wind_speed_index  \\\n",
       "0  2018-01-01 0:00     10.3      330      3.2                 2   \n",
       "1  2018-01-01 1:00     10.0      304      3.3                 2   \n",
       "2  2018-01-01 2:00      9.8      304      3.5                 2   \n",
       "3  2018-01-01 3:00     10.4      317      3.4                 2   \n",
       "4  2018-01-01 4:00     11.3      320      3.5                 2   \n",
       "\n",
       "   wind_deg_index  wave_index  berthing_index  berthing_index2  \n",
       "0               4           1            2.37           0.5925  \n",
       "1               3           1            2.04           0.5100  \n",
       "2               3           1            2.04           0.5100  \n",
       "3               4           1            2.37           0.5925  \n",
       "4               4           1            2.37           0.5925  "
      ]
     },
     "execution_count": 19,
     "metadata": {},
     "output_type": "execute_result"
    }
   ],
   "source": [
    "data2018_1.head()"
   ]
  },
  {
   "cell_type": "code",
   "execution_count": 21,
   "id": "e2e22269-00d8-496b-8614-a13ff8002b5c",
   "metadata": {
    "tags": []
   },
   "outputs": [],
   "source": [
    "output_file=\"data/berthing_index_2018.csv\"\n",
    "data2018_1.to_csv(output_file, index=False)"
   ]
  },
  {
   "cell_type": "code",
   "execution_count": 90,
   "id": "92c9aac1-d644-4c95-bb2a-9db9a76a83a6",
   "metadata": {
    "collapsed": true,
    "jupyter": {
     "outputs_hidden": true
    },
    "tags": []
   },
   "outputs": [
    {
     "data": {
      "text/html": [
       "<div>\n",
       "<style scoped>\n",
       "    .dataframe tbody tr th:only-of-type {\n",
       "        vertical-align: middle;\n",
       "    }\n",
       "\n",
       "    .dataframe tbody tr th {\n",
       "        vertical-align: top;\n",
       "    }\n",
       "\n",
       "    .dataframe thead th {\n",
       "        text-align: right;\n",
       "    }\n",
       "</style>\n",
       "<table border=\"1\" class=\"dataframe\">\n",
       "  <thead>\n",
       "    <tr style=\"text-align: right;\">\n",
       "      <th></th>\n",
       "      <th>일시</th>\n",
       "      <th>풍속(m/s)</th>\n",
       "      <th>풍향(deg)</th>\n",
       "      <th>유의파고(m)</th>\n",
       "      <th>파향(deg)</th>\n",
       "      <th>강수량(mm)</th>\n",
       "    </tr>\n",
       "  </thead>\n",
       "  <tbody>\n",
       "    <tr>\n",
       "      <th>2</th>\n",
       "      <td>2019-01-01 2:00</td>\n",
       "      <td>6.1</td>\n",
       "      <td>317</td>\n",
       "      <td>0.5</td>\n",
       "      <td>38</td>\n",
       "      <td>0.0</td>\n",
       "    </tr>\n",
       "    <tr>\n",
       "      <th>8</th>\n",
       "      <td>2019-01-01 8:00</td>\n",
       "      <td>5.1</td>\n",
       "      <td>315</td>\n",
       "      <td>0.5</td>\n",
       "      <td>38</td>\n",
       "      <td>0.0</td>\n",
       "    </tr>\n",
       "    <tr>\n",
       "      <th>14</th>\n",
       "      <td>2019-01-01 14:00</td>\n",
       "      <td>5.3</td>\n",
       "      <td>310</td>\n",
       "      <td>0.5</td>\n",
       "      <td>38</td>\n",
       "      <td>0.0</td>\n",
       "    </tr>\n",
       "    <tr>\n",
       "      <th>20</th>\n",
       "      <td>2019-01-01 20:00</td>\n",
       "      <td>8.5</td>\n",
       "      <td>311</td>\n",
       "      <td>0.5</td>\n",
       "      <td>38</td>\n",
       "      <td>0.0</td>\n",
       "    </tr>\n",
       "    <tr>\n",
       "      <th>26</th>\n",
       "      <td>2019-01-02 2:00</td>\n",
       "      <td>6.3</td>\n",
       "      <td>324</td>\n",
       "      <td>0.5</td>\n",
       "      <td>38</td>\n",
       "      <td>0.0</td>\n",
       "    </tr>\n",
       "  </tbody>\n",
       "</table>\n",
       "</div>"
      ],
      "text/plain": [
       "                  일시  풍속(m/s)  풍향(deg)  유의파고(m)  파향(deg)  강수량(mm)\n",
       "2    2019-01-01 2:00      6.1      317      0.5       38      0.0\n",
       "8    2019-01-01 8:00      5.1      315      0.5       38      0.0\n",
       "14  2019-01-01 14:00      5.3      310      0.5       38      0.0\n",
       "20  2019-01-01 20:00      8.5      311      0.5       38      0.0\n",
       "26   2019-01-02 2:00      6.3      324      0.5       38      0.0"
      ]
     },
     "execution_count": 90,
     "metadata": {},
     "output_type": "execute_result"
    }
   ],
   "source": [
    "# import matplotlib.pyplot as plt\n",
    "# import numpy as np\n",
    "# from matplotlib import font_manager, rc\n",
    "# import matplotlib\n",
    "\n",
    "# font_location = \"/usr/share/fonts/truetype/CookieRun/CookieRun Bold.ttf\"\n",
    "# font_name = font_manager.FontProperties(fname=font_location).get_name()\n",
    "# matplotlib.rc('font', family=font_name)"
   ]
  },
  {
   "cell_type": "code",
   "execution_count": 70,
   "id": "950ab438-3b3d-42a6-bc5e-f78b998d71b9",
   "metadata": {
    "collapsed": true,
    "jupyter": {
     "outputs_hidden": true
    },
    "tags": []
   },
   "outputs": [
    {
     "data": {
      "image/png": "[encoded data removed]",
      "text/plain": [
       "<Figure size 864x360 with 1 Axes>"
      ]
     },
     "metadata": {
      "needs_background": "light"
     },
     "output_type": "display_data"
    }
   ],
   "source": [
    "# plt.figure(figsize=(12, 5))\n",
    "# plt.scatter(df_graph['일시'], df_graph['berthing_index2'],s=10,c='magenta')\n",
    "# plt.xlabel('일시')\n",
    "# plt.ylabel('berthing_index2')\n",
    "# plt.show()"
   ]
  },
  {
   "cell_type": "markdown",
   "id": "ab38c081-ca29-4520-8fa3-ac98852b82ee",
   "metadata": {},
   "source": [
    "# DataFrame의 독도선착장 도착시간만 뽑아서 저장하기\n",
    "## 5개 선사 도착시간\n",
    "### 9:00 / 10:00 / 12:00 / 13:00 / 14:00 / 15:00 / 17:00"
   ]
  },
  {
   "cell_type": "code",
   "execution_count": 22,
   "id": "37b353fb-8a1b-4a56-9746-100cbd6cb650",
   "metadata": {},
   "outputs": [],
   "source": [
    "# df_rs = df[df['name'].str.contains('li')]\n",
    "\n",
    "contains_berthing_time2 = data2018_1[data2018_1['일시'].str.contains(' 9:00|10:00|12:00|13:00|14:00|15:00|17:00')]"
   ]
  },
  {
   "cell_type": "code",
   "execution_count": 85,
   "id": "1061e8ad-484e-4cf1-a6ac-1491d7dce06a",
   "metadata": {
    "collapsed": true,
    "jupyter": {
     "outputs_hidden": true
    },
    "tags": []
   },
   "outputs": [
    {
     "name": "stdout",
     "output_type": "stream",
     "text": [
      "                    일시  풍속(m/s)  풍향(deg)  유의파고(m)  wind_speed_index  \\\n",
      "9      2019-01-01 9:00      4.7      325      0.5                 4   \n",
      "10    2019-01-01 10:00      5.0      334      0.5                 4   \n",
      "13    2019-01-01 13:00      4.0      327      0.5                 4   \n",
      "14    2019-01-01 14:00      5.3      310      0.5                 3   \n",
      "15    2019-01-01 15:00      6.8      313      0.5                 3   \n",
      "...                ...      ...      ...      ...               ...   \n",
      "8656   2019-12-31 9:00     12.0      336      3.4                 2   \n",
      "8657  2019-12-31 10:00     10.4      345      3.8                 2   \n",
      "8660  2019-12-31 13:00      6.7       38      4.5                 3   \n",
      "8661  2019-12-31 14:00      4.2       37      4.4                 4   \n",
      "8663  2019-12-31 17:00      4.2       15      3.4                 4   \n",
      "\n",
      "      wind_deg_index  wave_index  berthing_index  berthing_index2  \n",
      "9                  5           5            4.62            0.924  \n",
      "10                 5           5            4.62            0.924  \n",
      "13                 5           5            4.62            0.924  \n",
      "14                 2           5            3.25            0.650  \n",
      "15                 2           5            3.25            0.650  \n",
      "...              ...         ...             ...              ...  \n",
      "8656               5           1            2.70            0.540  \n",
      "8657               5           1            2.70            0.540  \n",
      "8660               5           1            3.08            0.616  \n",
      "8661               5           1            3.46            0.692  \n",
      "8663               4           1            3.13            0.626  \n",
      "\n",
      "[2167 rows x 9 columns]\n"
     ]
    }
   ],
   "source": [
    "print(contains_berthing_time2)"
   ]
  },
  {
   "cell_type": "code",
   "execution_count": 23,
   "id": "5355bc8d-b1e2-4638-bd39-b5bff31db49a",
   "metadata": {},
   "outputs": [],
   "source": [
    "output_file=\"data/berthing_index_2018_settime.csv\"\n",
    "contains_berthing_time2.to_csv(output_file, index=False)"
   ]
  },
  {
   "cell_type": "code",
   "execution_count": 91,
   "id": "ef4b4238-05d2-4d90-8d14-1d5501fa89cc",
   "metadata": {},
   "outputs": [
    {
     "data": {
      "image/png": "[encoded data removed]",
      "text/plain": [
       "<Figure size 864x720 with 1 Axes>"
      ]
     },
     "metadata": {
      "needs_background": "light"
     },
     "output_type": "display_data"
    }
   ],
   "source": [
    "plt.figure(figsize=(12, 10))\n",
    "plt.scatter(contains_berthing_time2['일시'], contains_berthing_time2['berthing_index2'],s=10,c='magenta')\n",
    "plt.text(0.5, 1.05, 'plot(markersize=20)', fontdict={'size': 14})\n",
    "plt.xlabel('일시')\n",
    "plt.ylabel('berthing_index2')\n",
    "plt.show()"
   ]
  },
  {
   "cell_type": "code",
   "execution_count": null,
   "id": "84a33986-903c-4678-a006-5e5e2133c3f3",
   "metadata": {},
   "outputs": [],
   "source": [
    "import seaborn as sns\n",
    "\n",
    "sns.set(style='darkgrid')\n",
    "\n",
    "%matplotlib inline"
   ]
  },
  {
   "cell_type": "markdown",
   "id": "ca3986cb-d53c-4050-9cdd-6b87e4f1e9e4",
   "metadata": {},
   "source": [
    "data_2018_2시스포빌 JD\n",
    "10/1 (목)13:00 출발 - (1:30) - 14:30 도착-> 15:00\n",
    "10/2 (금)13:00 출발 - (1:30) - 14:30 도착-> 15:00\n",
    "\n",
    "11/6 (금)12:20 출발 - 2시 도착\n",
    "11/7 (토)12:20 출발 - 2시 도착"
   ]
  }
 ],
 "metadata": {
  "kernelspec": {
   "display_name": "Python 3",
   "language": "python",
   "name": "python3"
  },
  "language_info": {
   "codemirror_mode": {
    "name": "ipython",
    "version": 3
   },
   "file_extension": ".py",
   "mimetype": "text/x-python",
   "name": "python",
   "nbconvert_exporter": "python",
   "pygments_lexer": "ipython3",
   "version": "3.8.8"
  }
 },
 "nbformat": 4,
 "nbformat_minor": 5
}
