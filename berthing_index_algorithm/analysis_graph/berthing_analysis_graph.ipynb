{
 "cells": [
  {
   "cell_type": "code",
   "execution_count": 1,
   "id": "509a8d4a-055f-4ea5-b348-179549cc796c",
   "metadata": {},
   "outputs": [
    {
     "data": {
      "text/plain": [
       "Index(['월별', '입도횟수', '초기 접안지수', '강수량만 추가', '파향+, 가중치변경', '개선된 접안지수'], dtype='object')"
      ]
     },
     "execution_count": 1,
     "metadata": {},
     "output_type": "execute_result"
    }
   ],
   "source": [
    "import matplotlib.pyplot as plt\n",
    "import pandas as pd\n",
    "import numpy as np\n",
    "import seaborn as sns\n",
    "\n",
    "data = pd.read_excel('2018_2019_값수정 (1).xlsx', sheet_name ='시트1')\n",
    "data.columns"
   ]
  },
  {
   "cell_type": "code",
   "execution_count": 2,
   "id": "4e4240ef-d8cc-4644-8874-696b074aab3c",
   "metadata": {},
   "outputs": [],
   "source": [
    "#한글폰트 설정\n",
    "from matplotlib import font_manager, rc\n",
    "import matplotlib\n",
    "\n",
    "font_location = \"c:/Windows/Fonts/malgun.ttf\"\n",
    "font_name = font_manager.FontProperties(fname=font_location).get_name()\n",
    "matplotlib.rc('font', family=font_name)"
   ]
  },
  {
   "cell_type": "code",
   "execution_count": 10,
   "id": "8992fa10-4365-4f22-9df8-22fa3aab0fed",
   "metadata": {},
   "outputs": [
    {
     "data": {
      "text/html": [
       "<div>\n",
       "<style scoped>\n",
       "    .dataframe tbody tr th:only-of-type {\n",
       "        vertical-align: middle;\n",
       "    }\n",
       "\n",
       "    .dataframe tbody tr th {\n",
       "        vertical-align: top;\n",
       "    }\n",
       "\n",
       "    .dataframe thead th {\n",
       "        text-align: right;\n",
       "    }\n",
       "</style>\n",
       "<table border=\"1\" class=\"dataframe\">\n",
       "  <thead>\n",
       "    <tr style=\"text-align: right;\">\n",
       "      <th></th>\n",
       "      <th>월별</th>\n",
       "      <th>입도횟수</th>\n",
       "      <th>초기 접안지수</th>\n",
       "    </tr>\n",
       "  </thead>\n",
       "  <tbody>\n",
       "    <tr>\n",
       "      <th>0</th>\n",
       "      <td>2019.3</td>\n",
       "      <td>24</td>\n",
       "      <td>80</td>\n",
       "    </tr>\n",
       "    <tr>\n",
       "      <th>1</th>\n",
       "      <td>2019.4</td>\n",
       "      <td>83</td>\n",
       "      <td>82</td>\n",
       "    </tr>\n",
       "    <tr>\n",
       "      <th>2</th>\n",
       "      <td>2019.5</td>\n",
       "      <td>130</td>\n",
       "      <td>67</td>\n",
       "    </tr>\n",
       "    <tr>\n",
       "      <th>3</th>\n",
       "      <td>2019.6</td>\n",
       "      <td>132</td>\n",
       "      <td>120</td>\n",
       "    </tr>\n",
       "    <tr>\n",
       "      <th>4</th>\n",
       "      <td>2019.7</td>\n",
       "      <td>56</td>\n",
       "      <td>99</td>\n",
       "    </tr>\n",
       "    <tr>\n",
       "      <th>5</th>\n",
       "      <td>2019.8</td>\n",
       "      <td>94</td>\n",
       "      <td>129</td>\n",
       "    </tr>\n",
       "    <tr>\n",
       "      <th>6</th>\n",
       "      <td>2019.9</td>\n",
       "      <td>69</td>\n",
       "      <td>140</td>\n",
       "    </tr>\n",
       "    <tr>\n",
       "      <th>7</th>\n",
       "      <td>2019.10</td>\n",
       "      <td>65</td>\n",
       "      <td>115</td>\n",
       "    </tr>\n",
       "    <tr>\n",
       "      <th>8</th>\n",
       "      <td>2019.11</td>\n",
       "      <td>30</td>\n",
       "      <td>67</td>\n",
       "    </tr>\n",
       "  </tbody>\n",
       "</table>\n",
       "</div>"
      ],
      "text/plain": [
       "        월별  입도횟수  초기 접안지수\n",
       "0   2019.3    24       80\n",
       "1   2019.4    83       82\n",
       "2   2019.5   130       67\n",
       "3   2019.6   132      120\n",
       "4   2019.7    56       99\n",
       "5   2019.8    94      129\n",
       "6   2019.9    69      140\n",
       "7  2019.10    65      115\n",
       "8  2019.11    30       67"
      ]
     },
     "execution_count": 10,
     "metadata": {},
     "output_type": "execute_result"
    }
   ],
   "source": [
    "df = data[['월별', '입도횟수', '초기 접안지수']]\n",
    "df = df.drop(9)\n",
    "df"
   ]
  },
  {
   "cell_type": "code",
   "execution_count": 11,
   "id": "0d34eb76-c1fe-408f-a81e-83985f1dcdf7",
   "metadata": {},
   "outputs": [
    {
     "data": {
      "text/html": [
       "<div>\n",
       "<style scoped>\n",
       "    .dataframe tbody tr th:only-of-type {\n",
       "        vertical-align: middle;\n",
       "    }\n",
       "\n",
       "    .dataframe tbody tr th {\n",
       "        vertical-align: top;\n",
       "    }\n",
       "\n",
       "    .dataframe thead th {\n",
       "        text-align: right;\n",
       "    }\n",
       "</style>\n",
       "<table border=\"1\" class=\"dataframe\">\n",
       "  <thead>\n",
       "    <tr style=\"text-align: right;\">\n",
       "      <th></th>\n",
       "      <th>월별</th>\n",
       "      <th>입도횟수</th>\n",
       "      <th>초기 접안지수</th>\n",
       "    </tr>\n",
       "    <tr>\n",
       "      <th>월별</th>\n",
       "      <th></th>\n",
       "      <th></th>\n",
       "      <th></th>\n",
       "    </tr>\n",
       "  </thead>\n",
       "  <tbody>\n",
       "    <tr>\n",
       "      <th>2019.3</th>\n",
       "      <td>2019.3</td>\n",
       "      <td>24</td>\n",
       "      <td>80</td>\n",
       "    </tr>\n",
       "    <tr>\n",
       "      <th>2019.4</th>\n",
       "      <td>2019.4</td>\n",
       "      <td>83</td>\n",
       "      <td>82</td>\n",
       "    </tr>\n",
       "    <tr>\n",
       "      <th>2019.5</th>\n",
       "      <td>2019.5</td>\n",
       "      <td>130</td>\n",
       "      <td>67</td>\n",
       "    </tr>\n",
       "    <tr>\n",
       "      <th>2019.6</th>\n",
       "      <td>2019.6</td>\n",
       "      <td>132</td>\n",
       "      <td>120</td>\n",
       "    </tr>\n",
       "    <tr>\n",
       "      <th>2019.7</th>\n",
       "      <td>2019.7</td>\n",
       "      <td>56</td>\n",
       "      <td>99</td>\n",
       "    </tr>\n",
       "    <tr>\n",
       "      <th>2019.8</th>\n",
       "      <td>2019.8</td>\n",
       "      <td>94</td>\n",
       "      <td>129</td>\n",
       "    </tr>\n",
       "    <tr>\n",
       "      <th>2019.9</th>\n",
       "      <td>2019.9</td>\n",
       "      <td>69</td>\n",
       "      <td>140</td>\n",
       "    </tr>\n",
       "    <tr>\n",
       "      <th>2019.10</th>\n",
       "      <td>2019.10</td>\n",
       "      <td>65</td>\n",
       "      <td>115</td>\n",
       "    </tr>\n",
       "    <tr>\n",
       "      <th>2019.11</th>\n",
       "      <td>2019.11</td>\n",
       "      <td>30</td>\n",
       "      <td>67</td>\n",
       "    </tr>\n",
       "  </tbody>\n",
       "</table>\n",
       "</div>"
      ],
      "text/plain": [
       "              월별  입도횟수  초기 접안지수\n",
       "월별                             \n",
       "2019.3    2019.3    24       80\n",
       "2019.4    2019.4    83       82\n",
       "2019.5    2019.5   130       67\n",
       "2019.6    2019.6   132      120\n",
       "2019.7    2019.7    56       99\n",
       "2019.8    2019.8    94      129\n",
       "2019.9    2019.9    69      140\n",
       "2019.10  2019.10    65      115\n",
       "2019.11  2019.11    30       67"
      ]
     },
     "execution_count": 11,
     "metadata": {},
     "output_type": "execute_result"
    }
   ],
   "source": [
    "df.index=df['월별']\n",
    "df"
   ]
  },
  {
   "cell_type": "code",
   "execution_count": 12,
   "id": "ce626ba2-3e4e-44fb-97ef-900414b57537",
   "metadata": {},
   "outputs": [
    {
     "data": {
      "text/plain": [
       "<matplotlib.legend.Legend at 0x1f93391e070>"
      ]
     },
     "execution_count": 12,
     "metadata": {},
     "output_type": "execute_result"
    },
    {
     "data": {
      "image/png": "[encoded data removed]",
      "text/plain": [
       "<Figure size 864x288 with 1 Axes>"
      ]
     },
     "metadata": {
      "needs_background": "light"
     },
     "output_type": "display_data"
    }
   ],
   "source": [
    "ax = df.plot(kind='line', title ='2019년 입도횟수 비교', marker='o', figsize=(12, 4), legend=True, fontsize=12)\n",
    "ax.set_xlabel('월별', fontsize=12)\n",
    "ax.set_ylabel('입도횟수/ 접안지수', fontsize=12)\n",
    "\n",
    "ax.legend(['입도횟수', '초기 접안지수'], fontsize=12)"
   ]
  },
  {
   "cell_type": "code",
   "execution_count": 13,
   "id": "2c7e8bc9-bb68-4573-bca6-7b2475c9bb49",
   "metadata": {},
   "outputs": [
    {
     "data": {
      "text/html": [
       "<div>\n",
       "<style scoped>\n",
       "    .dataframe tbody tr th:only-of-type {\n",
       "        vertical-align: middle;\n",
       "    }\n",
       "\n",
       "    .dataframe tbody tr th {\n",
       "        vertical-align: top;\n",
       "    }\n",
       "\n",
       "    .dataframe thead th {\n",
       "        text-align: right;\n",
       "    }\n",
       "</style>\n",
       "<table border=\"1\" class=\"dataframe\">\n",
       "  <thead>\n",
       "    <tr style=\"text-align: right;\">\n",
       "      <th></th>\n",
       "      <th>월별</th>\n",
       "      <th>입도횟수</th>\n",
       "      <th>개선된 접안지수</th>\n",
       "    </tr>\n",
       "  </thead>\n",
       "  <tbody>\n",
       "    <tr>\n",
       "      <th>0</th>\n",
       "      <td>2019.3</td>\n",
       "      <td>24</td>\n",
       "      <td>76</td>\n",
       "    </tr>\n",
       "    <tr>\n",
       "      <th>1</th>\n",
       "      <td>2019.4</td>\n",
       "      <td>83</td>\n",
       "      <td>72</td>\n",
       "    </tr>\n",
       "    <tr>\n",
       "      <th>2</th>\n",
       "      <td>2019.5</td>\n",
       "      <td>130</td>\n",
       "      <td>43</td>\n",
       "    </tr>\n",
       "    <tr>\n",
       "      <th>3</th>\n",
       "      <td>2019.6</td>\n",
       "      <td>132</td>\n",
       "      <td>97</td>\n",
       "    </tr>\n",
       "    <tr>\n",
       "      <th>4</th>\n",
       "      <td>2019.7</td>\n",
       "      <td>56</td>\n",
       "      <td>90</td>\n",
       "    </tr>\n",
       "    <tr>\n",
       "      <th>5</th>\n",
       "      <td>2019.8</td>\n",
       "      <td>94</td>\n",
       "      <td>101</td>\n",
       "    </tr>\n",
       "    <tr>\n",
       "      <th>6</th>\n",
       "      <td>2019.9</td>\n",
       "      <td>69</td>\n",
       "      <td>97</td>\n",
       "    </tr>\n",
       "    <tr>\n",
       "      <th>7</th>\n",
       "      <td>2019.10</td>\n",
       "      <td>65</td>\n",
       "      <td>100</td>\n",
       "    </tr>\n",
       "    <tr>\n",
       "      <th>8</th>\n",
       "      <td>2019.11</td>\n",
       "      <td>30</td>\n",
       "      <td>85</td>\n",
       "    </tr>\n",
       "  </tbody>\n",
       "</table>\n",
       "</div>"
      ],
      "text/plain": [
       "        월별  입도횟수  개선된 접안지수\n",
       "0   2019.3    24        76\n",
       "1   2019.4    83        72\n",
       "2   2019.5   130        43\n",
       "3   2019.6   132        97\n",
       "4   2019.7    56        90\n",
       "5   2019.8    94       101\n",
       "6   2019.9    69        97\n",
       "7  2019.10    65       100\n",
       "8  2019.11    30        85"
      ]
     },
     "execution_count": 13,
     "metadata": {},
     "output_type": "execute_result"
    }
   ],
   "source": [
    "df2 = data[['월별', '입도횟수', '개선된 접안지수']]\n",
    "df2 = df2.drop(9)\n",
    "df2"
   ]
  },
  {
   "cell_type": "code",
   "execution_count": 14,
   "id": "7ca0a8cd-5881-4a66-8fef-f2efdb60a830",
   "metadata": {
    "tags": []
   },
   "outputs": [
    {
     "data": {
      "text/html": [
       "<div>\n",
       "<style scoped>\n",
       "    .dataframe tbody tr th:only-of-type {\n",
       "        vertical-align: middle;\n",
       "    }\n",
       "\n",
       "    .dataframe tbody tr th {\n",
       "        vertical-align: top;\n",
       "    }\n",
       "\n",
       "    .dataframe thead th {\n",
       "        text-align: right;\n",
       "    }\n",
       "</style>\n",
       "<table border=\"1\" class=\"dataframe\">\n",
       "  <thead>\n",
       "    <tr style=\"text-align: right;\">\n",
       "      <th></th>\n",
       "      <th>월별</th>\n",
       "      <th>입도횟수</th>\n",
       "      <th>개선된 접안지수</th>\n",
       "    </tr>\n",
       "    <tr>\n",
       "      <th>월별</th>\n",
       "      <th></th>\n",
       "      <th></th>\n",
       "      <th></th>\n",
       "    </tr>\n",
       "  </thead>\n",
       "  <tbody>\n",
       "    <tr>\n",
       "      <th>2019.3</th>\n",
       "      <td>2019.3</td>\n",
       "      <td>24</td>\n",
       "      <td>76</td>\n",
       "    </tr>\n",
       "    <tr>\n",
       "      <th>2019.4</th>\n",
       "      <td>2019.4</td>\n",
       "      <td>83</td>\n",
       "      <td>72</td>\n",
       "    </tr>\n",
       "    <tr>\n",
       "      <th>2019.5</th>\n",
       "      <td>2019.5</td>\n",
       "      <td>130</td>\n",
       "      <td>43</td>\n",
       "    </tr>\n",
       "    <tr>\n",
       "      <th>2019.6</th>\n",
       "      <td>2019.6</td>\n",
       "      <td>132</td>\n",
       "      <td>97</td>\n",
       "    </tr>\n",
       "    <tr>\n",
       "      <th>2019.7</th>\n",
       "      <td>2019.7</td>\n",
       "      <td>56</td>\n",
       "      <td>90</td>\n",
       "    </tr>\n",
       "    <tr>\n",
       "      <th>2019.8</th>\n",
       "      <td>2019.8</td>\n",
       "      <td>94</td>\n",
       "      <td>101</td>\n",
       "    </tr>\n",
       "    <tr>\n",
       "      <th>2019.9</th>\n",
       "      <td>2019.9</td>\n",
       "      <td>69</td>\n",
       "      <td>97</td>\n",
       "    </tr>\n",
       "    <tr>\n",
       "      <th>2019.10</th>\n",
       "      <td>2019.10</td>\n",
       "      <td>65</td>\n",
       "      <td>100</td>\n",
       "    </tr>\n",
       "    <tr>\n",
       "      <th>2019.11</th>\n",
       "      <td>2019.11</td>\n",
       "      <td>30</td>\n",
       "      <td>85</td>\n",
       "    </tr>\n",
       "  </tbody>\n",
       "</table>\n",
       "</div>"
      ],
      "text/plain": [
       "              월별  입도횟수  개선된 접안지수\n",
       "월별                              \n",
       "2019.3    2019.3    24        76\n",
       "2019.4    2019.4    83        72\n",
       "2019.5    2019.5   130        43\n",
       "2019.6    2019.6   132        97\n",
       "2019.7    2019.7    56        90\n",
       "2019.8    2019.8    94       101\n",
       "2019.9    2019.9    69        97\n",
       "2019.10  2019.10    65       100\n",
       "2019.11  2019.11    30        85"
      ]
     },
     "execution_count": 14,
     "metadata": {},
     "output_type": "execute_result"
    }
   ],
   "source": [
    "df2.index=df['월별']\n",
    "df2"
   ]
  },
  {
   "cell_type": "code",
   "execution_count": 16,
   "id": "bcdeca4a-6ccb-4fb2-bfce-9e59ac386611",
   "metadata": {},
   "outputs": [
    {
     "data": {
      "text/plain": [
       "<matplotlib.legend.Legend at 0x1f9339d2520>"
      ]
     },
     "execution_count": 16,
     "metadata": {},
     "output_type": "execute_result"
    },
    {
     "data": {
      "image/png": "[encoded data removed]",
      "text/plain": [
       "<Figure size 864x288 with 1 Axes>"
      ]
     },
     "metadata": {
      "needs_background": "light"
     },
     "output_type": "display_data"
    }
   ],
   "source": [
    "ax = df2.plot(kind='line', title ='2019년 입도횟수_개선된 접안지수', marker='o', figsize=(12, 4), legend=True, fontsize=12)\n",
    "ax.set_xlabel('월별', fontsize=12)\n",
    "ax.set_ylabel('입도횟수/ 지수', fontsize=12)\n",
    "\n",
    "ax.legend(['입도횟수', '개선된 접안지수'], fontsize=12)"
   ]
  }
 ],
 "metadata": {
  "kernelspec": {
   "display_name": "Python 3",
   "language": "python",
   "name": "python3"
  },
  "language_info": {
   "codemirror_mode": {
    "name": "ipython",
    "version": 3
   },
   "file_extension": ".py",
   "mimetype": "text/x-python",
   "name": "python",
   "nbconvert_exporter": "python",
   "pygments_lexer": "ipython3",
   "version": "3.8.8"
  }
 },
 "nbformat": 4,
 "nbformat_minor": 5
}
